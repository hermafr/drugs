{
 "cells": [
  {
   "cell_type": "code",
   "execution_count": 26,
   "metadata": {
    "collapsed": true
   },
   "outputs": [],
   "source": [
    "from corpus_reader import read_dataset\n",
    "#from n_gram_naive_bayes import trained_naive_bayes, extract_features_and_classify\n",
    "\n",
    "from word_extraction import remove_puntuations\n",
    "from numpy.random import choice\n",
    "\n",
    "from sklearn import svm\n",
    "\n",
    "import sys\n",
    "import numpy as np\n",
    "\n",
    "import re"
   ]
  },
  {
   "cell_type": "code",
   "execution_count": 20,
   "metadata": {
    "collapsed": false
   },
   "outputs": [
    {
     "name": "stdout",
     "output_type": "stream",
     "text": [
      "499 training documents\n",
      "215 test documents\n"
     ]
    }
   ],
   "source": [
    "data = read_dataset()\n",
    "n_docs = len(data)\n",
    "\n",
    "np.random.seed(42)\n",
    "\n",
    "train_amount = 0.7\n",
    "train_ids = choice(n_docs, int(train_amount * n_docs), replace=False)\n",
    "test_ids = [i for i in range(n_docs) if i not in train_ids]\n",
    "\n",
    "training = [data[i] for i in train_ids]\n",
    "test = [data[i] for i in test_ids]\n",
    "\n",
    "print(\"%i training documents\" % len(training))\n",
    "print(\"%i test documents\" % len(test))\n"
   ]
  },
  {
   "cell_type": "code",
   "execution_count": null,
   "metadata": {
    "collapsed": true
   },
   "outputs": [],
   "source": [
    "def str_pair(pair):\n",
    "    typeInteraction = \"\"\n",
    "    \n",
    "    if pair.ddi == \"true\":\n",
    "        typeInteraction = \",\" + pair.type\n",
    "    \n",
    "    return \"(\" + pair.e1.text + \",\" +  pair.e2.text + \",\" + pair.ddi + typeInteraction + \")\""
   ]
  },
  {
   "cell_type": "code",
   "execution_count": 21,
   "metadata": {
    "collapsed": true
   },
   "outputs": [],
   "source": [
    "def get_pairs_interaction(pair):\n",
    "    return \"(\" + pair.e1.text + \",\" +  pair.e2.text + \",\" + pair.ddi + \")\"\n"
   ]
  },
  {
   "cell_type": "code",
   "execution_count": 54,
   "metadata": {
    "collapsed": false
   },
   "outputs": [],
   "source": [
    "def get_interaction_text(pair, sentenceText):\n",
    "    \n",
    "    if len(pair.e1.char_offset) != 1:\n",
    "        print(\"MAUVAIS CAS !!!\")\n",
    "        print (pair.e1.char_offset)\n",
    "        print(sentenceText)\n",
    "        print(pair.e1.text)\n",
    "        print(pair.e2.text)\n",
    "        return []\n",
    "        sys.exit()\n",
    "    \n",
    "    \n",
    "    #print (pair.e1.char_offset, pair.e2.char_offset)\n",
    "    text_start = pair.e1.char_offset[0][1] +1\n",
    "    text_end = pair.e2.char_offset[0][0]        #no +1 because slice in python exclude last end\n",
    "    \n",
    "    #print \"TEXT START AT \" + str(text_start) + \" AND ENDS AT \" + str(text_end) + \"\\n\"\n",
    "    \n",
    "    text = sentenceText[text_start:text_end]\n",
    "    text = re.split(\"\\W+\", text)\n",
    "    text = [w for w in text if w != \"\"]\n",
    "    #text = \"--\"\n",
    "    #return \"(\" + pair.e1.text + \",\" + str(text) + \",\" +  pair.e2.text + \",\" + pair.ddi + \")\"\n",
    "    return text\n"
   ]
  },
  {
   "cell_type": "code",
   "execution_count": 55,
   "metadata": {
    "collapsed": false
   },
   "outputs": [
    {
     "name": "stdout",
     "output_type": "stream",
     "text": [
      "MAUVAIS CAS !!!\n",
      "[(81, 93), (112, 122)]\n",
      "The beneficial effects on arterial thrombus formation from combined therapy with antiplatelet and anticoagulant medication must be weighed against an increased risk of inducing hemorrhage.\n",
      "antiplatelet medication\n",
      "anticoagulant medication\n",
      "MAUVAIS CAS !!!\n",
      "[(94, 98), (114, 122)]\n",
      "Vaccines: Patients on corticosteroid therapy may exhibit a diminished response to toxoids and live or inactivated vaccines due to inhibition of antibody response.\n",
      "live vaccines\n",
      "inactivated vaccines\n",
      "MAUVAIS CAS !!!\n",
      "[(150, 154), (188, 197)]\n",
      "In some patients, the administration of a non- steroidal antiinflammatory agent can reduce the diuretic, natriuretic, and antihypertensive effects of loop, potassium- sparing and thiazide diuretics.\n",
      "loop diuretics\n",
      "potassium- sparing diuretics\n",
      "MAUVAIS CAS !!!\n",
      "[(150, 154), (188, 197)]\n",
      "In some patients, the administration of a non- steroidal antiinflammatory agent can reduce the diuretic, natriuretic, and antihypertensive effects of loop, potassium- sparing and thiazide diuretics.\n",
      "loop diuretics\n",
      "thiazide diuretics\n",
      "MAUVAIS CAS !!!\n",
      "[(156, 174), (188, 197)]\n",
      "In some patients, the administration of a non- steroidal antiinflammatory agent can reduce the diuretic, natriuretic, and antihypertensive effects of loop, potassium- sparing and thiazide diuretics.\n",
      "potassium- sparing diuretics\n",
      "thiazide diuretics\n",
      "MAUVAIS CAS !!!\n",
      "[(119, 123), (136, 145)]\n",
      "The ECG changes and/or hypokalemia that may result from the administration of non-potassium sparing diuretics (such as loop or thiazide diuretics) can be acutely worsened by beta-agonists, especially when the recommended dose of the beta-agonist is exceeded.\n",
      "loop diuretics\n",
      "thiazide diuretics\n",
      "MAUVAIS CAS !!!\n",
      "[(119, 123), (136, 145)]\n",
      "The ECG changes and/or hypokalemia that may result from the administration of non-potassium sparing diuretics (such as loop or thiazide diuretics) can be acutely worsened by beta-agonists, especially when the recommended dose of the beta-agonist is exceeded.\n",
      "loop diuretics\n",
      "beta-agonists\n",
      "MAUVAIS CAS !!!\n",
      "[(119, 123), (136, 145)]\n",
      "The ECG changes and/or hypokalemia that may result from the administration of non-potassium sparing diuretics (such as loop or thiazide diuretics) can be acutely worsened by beta-agonists, especially when the recommended dose of the beta-agonist is exceeded.\n",
      "loop diuretics\n",
      "beta-agonist\n",
      "MAUVAIS CAS !!!\n",
      "[(48, 57), (71, 82)]\n",
      "Drug interaction studies with SUSTIVA and these imidazole and triazole antifungals have not been conducted.\n",
      "imidazole antifungals\n",
      "triazole antifungals\n",
      "MAUVAIS CAS !!!\n",
      "[(80, 86), (95, 121)]\n",
      "Dopamine-induced renal and mesenteric vasodilation is not antagonized by either alpha- or beta-adrenergic blocking agents.\n",
      "alpha-adrenergic blocking agents\n",
      "beta-adrenergic blocking agents\n",
      "MAUVAIS CAS !!!\n",
      "[(40, 48), (63, 72)]\n",
      "Antacids: Concomitant administration of aluminum and magnesium hydroxides does not interfere with absorption of meclofenamate sodium.\n",
      "aluminum hydroxide\n",
      "magnesium hydroxide\n",
      "MAUVAIS CAS !!!\n",
      "[(40, 48), (63, 72)]\n",
      "Antacids: Concomitant administration of aluminum and magnesium hydroxides does not interfere with absorption of meclofenamate sodium.\n",
      "aluminum hydroxide\n",
      "meclofenamate sodium\n",
      "MAUVAIS CAS !!!\n",
      "[(189, 193), (226, 235)]\n",
      "Non-steroidal Anti-inflammatory Drugs: In some patients, the administration of a non-steroidal anti-inflammatory agent can reduce the diuretic, natriuretic, and antihypertensive effects of loop, potassium-sparing and thiazide diuretics.\n",
      "loop diuretics\n",
      "potassium-sparing diuretics\n",
      "MAUVAIS CAS !!!\n",
      "[(189, 193), (226, 235)]\n",
      "Non-steroidal Anti-inflammatory Drugs: In some patients, the administration of a non-steroidal anti-inflammatory agent can reduce the diuretic, natriuretic, and antihypertensive effects of loop, potassium-sparing and thiazide diuretics.\n",
      "loop diuretics\n",
      "thiazide diuretics\n",
      "MAUVAIS CAS !!!\n",
      "[(195, 212), (226, 235)]\n",
      "Non-steroidal Anti-inflammatory Drugs: In some patients, the administration of a non-steroidal anti-inflammatory agent can reduce the diuretic, natriuretic, and antihypertensive effects of loop, potassium-sparing and thiazide diuretics.\n",
      "potassium-sparing diuretics\n",
      "thiazide diuretics\n",
      "MAUVAIS CAS !!!\n",
      "[(90, 105), (120, 131)]\n",
      "Phospholine Iodide potentiates other cholinesterase inhibitors such as succinylcholine or organophosphate and carbamate insecticides.\n",
      "organophosphate insecticide\n",
      "carbamate insecticide\n",
      "MAUVAIS CAS !!!\n",
      "[(118, 122), (156, 165)]\n",
      "In some patients, the administration of INDOCIN can reduce the diuretic, natriuretic, and antihypertensive effects of loop, potassium-sparing, and thiazide diuretics.\n",
      "loop diuretics\n",
      "potassium-sparing diuretics\n",
      "MAUVAIS CAS !!!\n",
      "[(118, 122), (156, 165)]\n",
      "In some patients, the administration of INDOCIN can reduce the diuretic, natriuretic, and antihypertensive effects of loop, potassium-sparing, and thiazide diuretics.\n",
      "loop diuretics\n",
      "thiazide diuretics\n",
      "MAUVAIS CAS !!!\n",
      "[(124, 141), (156, 165)]\n",
      "In some patients, the administration of INDOCIN can reduce the diuretic, natriuretic, and antihypertensive effects of loop, potassium-sparing, and thiazide diuretics.\n",
      "potassium-sparing diuretics\n",
      "thiazide diuretics\n",
      "MAUVAIS CAS !!!\n",
      "[(0, 9), (36, 44)]\n",
      "Acellular, live and live-attenuated vaccines should not be administered during RAPTIVA treatment.\n",
      "Acellular vaccines\n",
      "live vaccines\n",
      "MAUVAIS CAS !!!\n",
      "[(0, 9), (36, 44)]\n",
      "Acellular, live and live-attenuated vaccines should not be administered during RAPTIVA treatment.\n",
      "Acellular vaccines\n",
      "live-attenuated vaccines\n",
      "MAUVAIS CAS !!!\n",
      "[(0, 9), (36, 44)]\n",
      "Acellular, live and live-attenuated vaccines should not be administered during RAPTIVA treatment.\n",
      "Acellular vaccines\n",
      "RAPTIVA\n",
      "MAUVAIS CAS !!!\n",
      "[(11, 15), (36, 44)]\n",
      "Acellular, live and live-attenuated vaccines should not be administered during RAPTIVA treatment.\n",
      "live vaccines\n",
      "live-attenuated vaccines\n",
      "MAUVAIS CAS !!!\n",
      "[(11, 15), (36, 44)]\n",
      "Acellular, live and live-attenuated vaccines should not be administered during RAPTIVA treatment.\n",
      "live vaccines\n",
      "RAPTIVA\n",
      "MAUVAIS CAS !!!\n",
      "[(25, 35), (50, 75)]\n",
      "Potentiation occurs with ganglionic or peripheral adrenergic blocking drugs.\n",
      "ganglionic adrenergic blocking drugs\n",
      "peripheral adrenergic blocking drugs\n",
      "MAUVAIS CAS !!!\n",
      "[(95, 99), (107, 115)]\n",
      "Warfarin: Eszopiclone 3 mg administered daily for 5 days did not affect the pharmacokinetics of (R)- or (S)-warfarin, nor were there any changes in the pharmacodynamic profile (prothrombin time) following a single 25 mg oral dose of warfarin\n",
      "(R)-warfarin\n",
      "(S)-warfarin\n",
      "MAUVAIS CAS !!!\n",
      "[(95, 99), (107, 115)]\n",
      "Warfarin: Eszopiclone 3 mg administered daily for 5 days did not affect the pharmacokinetics of (R)- or (S)-warfarin, nor were there any changes in the pharmacodynamic profile (prothrombin time) following a single 25 mg oral dose of warfarin\n",
      "(R)-warfarin\n",
      "warfarin\n",
      "MAUVAIS CAS !!!\n",
      "[(85, 93), (103, 112)]\n",
      "No interactions have been observed with beta-receptor blockers, calcium antagonists, thiazide and loop diuretics and ACE inhibitors. \n",
      "thiazide diuretics\n",
      "loop diuretics\n",
      "MAUVAIS CAS !!!\n",
      "[(85, 93), (103, 112)]\n",
      "No interactions have been observed with beta-receptor blockers, calcium antagonists, thiazide and loop diuretics and ACE inhibitors. \n",
      "thiazide diuretics\n",
      "ACE inhibitors\n",
      "MAUVAIS CAS !!!\n",
      "[(191, 195), (228, 237)]\n",
      "- Non-steroidal Anti-inflammatory Drugs: In some patients, the administration of a non-steroidal anti-inflammatory agent can reduce the diuretic, natriuretic, and antihypertensive effects of loop, potassium-sparing and thiazide diuretics.\n",
      "loop diuretics\n",
      "potassium-sparing diuretics\n",
      "MAUVAIS CAS !!!\n",
      "[(191, 195), (228, 237)]\n",
      "- Non-steroidal Anti-inflammatory Drugs: In some patients, the administration of a non-steroidal anti-inflammatory agent can reduce the diuretic, natriuretic, and antihypertensive effects of loop, potassium-sparing and thiazide diuretics.\n",
      "loop diuretics\n",
      "thiazide diuretics\n",
      "MAUVAIS CAS !!!\n",
      "[(197, 214), (228, 237)]\n",
      "- Non-steroidal Anti-inflammatory Drugs: In some patients, the administration of a non-steroidal anti-inflammatory agent can reduce the diuretic, natriuretic, and antihypertensive effects of loop, potassium-sparing and thiazide diuretics.\n",
      "potassium-sparing diuretics\n",
      "thiazide diuretics\n",
      "MAUVAIS CAS !!!\n",
      "[(64, 68), (77, 85)]\n",
      "Although there was no effect of Aprepitant on the plasma AUC of R(+) or S(-) warfarin determined on Day 3, there was a 34% decrease in S(-)warfarin (a CYP2C9 substrate) trough concentration accompanied by a 14% decrease in the prothrombin time (reported as International Normalized Ratio or INR) 5 days after completion of dosing with Aprepitant.\n",
      "R(+) warfarin\n",
      "S(-) warfarin\n",
      "MAUVAIS CAS !!!\n",
      "[(64, 68), (77, 85)]\n",
      "Although there was no effect of Aprepitant on the plasma AUC of R(+) or S(-) warfarin determined on Day 3, there was a 34% decrease in S(-)warfarin (a CYP2C9 substrate) trough concentration accompanied by a 14% decrease in the prothrombin time (reported as International Normalized Ratio or INR) 5 days after completion of dosing with Aprepitant.\n",
      "R(+) warfarin\n",
      "S(-)warfarin\n",
      "MAUVAIS CAS !!!\n",
      "[(64, 68), (77, 85)]\n",
      "Although there was no effect of Aprepitant on the plasma AUC of R(+) or S(-) warfarin determined on Day 3, there was a 34% decrease in S(-)warfarin (a CYP2C9 substrate) trough concentration accompanied by a 14% decrease in the prothrombin time (reported as International Normalized Ratio or INR) 5 days after completion of dosing with Aprepitant.\n",
      "R(+) warfarin\n",
      "Aprepitant\n",
      "MAUVAIS CAS !!!\n",
      "[(98, 108), (124, 145)]\n",
      "Patients with HACA titers may have allergic or hypersensitivity reactions when treated with other diagnostic or therapeutic monoclonal antibodies.\n",
      "diagnostic monoclonal antibodies\n",
      "therapeutic monoclonal antibodies\n",
      "MAUVAIS CAS !!!\n",
      "[(81, 82), (89, 97)]\n",
      "Warfarin Keppra  (1000 mg twice daily) did not influence the pharmacokinetics of R and S warfarin.\n",
      "R warfarin\n",
      "S warfarin\n",
      "MAUVAIS CAS !!!\n",
      "[(150, 154), (187, 196)]\n",
      "In some patients, the administration of a non-steroidal anti-inflammatory agent can reduce the diuretic, natriuretic, and antihypertensive effects of loop, potassium-sparing and thiazide diuretics.\n",
      "loop diuretics\n",
      "potassium-sparing diuretics\n",
      "MAUVAIS CAS !!!\n",
      "[(150, 154), (187, 196)]\n",
      "In some patients, the administration of a non-steroidal anti-inflammatory agent can reduce the diuretic, natriuretic, and antihypertensive effects of loop, potassium-sparing and thiazide diuretics.\n",
      "loop diuretics\n",
      "thiazide diuretics\n",
      "MAUVAIS CAS !!!\n",
      "[(156, 173), (187, 196)]\n",
      "In some patients, the administration of a non-steroidal anti-inflammatory agent can reduce the diuretic, natriuretic, and antihypertensive effects of loop, potassium-sparing and thiazide diuretics.\n",
      "potassium-sparing diuretics\n",
      "thiazide diuretics\n",
      "Done\n"
     ]
    }
   ],
   "source": [
    "nb=1\n",
    "nb = len(training)\n",
    "\n",
    "count_words = {}\n",
    "\n",
    "verbose = False\n",
    "\n",
    "for doc in training[0:nb]:\n",
    "    for sentence in doc.sentences:\n",
    "        if len(sentence.entities) >= 2:\n",
    "            all_interaction_text = [get_interaction_text(p, sentence.text) for p in sentence.pairs]\n",
    "            if verbose:\n",
    "                print(sentence.text)\n",
    "                print([e.text for e in sentence.entities])\n",
    "                #print([get_pairs_interaction(p) for p in sentence.pairs])\n",
    "\n",
    "                print(interaction_text)\n",
    "                print(\"\\n-------\\n\")\n",
    "            \n",
    "            for interaction_text in all_interaction_text:\n",
    "                for w in interaction_text:\n",
    "                    count_words[w] = count_words.get(w,0) + 1\n",
    "            \n",
    "            \n",
    "            \n",
    "print(\"Done\")"
   ]
  },
  {
   "cell_type": "code",
   "execution_count": 56,
   "metadata": {
    "collapsed": false
   },
   "outputs": [],
   "source": [
    "srt = sorted([(count_words[word], word) for word in count_words], reverse = True)"
   ]
  },
  {
   "cell_type": "code",
   "execution_count": 63,
   "metadata": {
    "collapsed": false
   },
   "outputs": [
    {
     "name": "stdout",
     "output_type": "stream",
     "text": [
      "Showing most 20 frequent words.\n",
      "(6619, 'and')\n",
      "(6008, 'of')\n",
      "(4383, 'the')\n",
      "(3519, 'acid')\n",
      "(3497, 'with')\n",
      "(2929, 'drugs')\n",
      "(2475, 'or')\n",
      "(2366, 'in')\n",
      "(2341, 'inhibitors')\n",
      "(1794, 'as')\n",
      "(1766, 'to')\n",
      "(1507, 'may')\n",
      "(1440, 'a')\n",
      "(1277, 'oral')\n",
      "(1196, 'phenytoin')\n",
      "(1194, 'mg')\n",
      "(1176, 'prolonged')\n",
      "(1142, 'clofibrate')\n",
      "(1132, 'g')\n",
      "(1125, 'e')\n"
     ]
    }
   ],
   "source": [
    "nb_feature_words = 20\n",
    "print(\"Showing most \"+ str(nb_feature_words) + \" frequent words.\")\n",
    "\n",
    "for e in srt[:nb_feature_words]:\n",
    "    print(e)"
   ]
  },
  {
   "cell_type": "code",
   "execution_count": null,
   "metadata": {
    "collapsed": true
   },
   "outputs": [],
   "source": []
  },
  {
   "cell_type": "code",
   "execution_count": 66,
   "metadata": {
    "collapsed": true
   },
   "outputs": [],
   "source": [
    "feature_words = [w for (n,w) in srt[:nb_feature_words]]\n",
    "feature_index = {}\n",
    "\n",
    "for (i,feat) in enumerate(feature_words):\n",
    "    feature_index[feat] = i"
   ]
  },
  {
   "cell_type": "code",
   "execution_count": 67,
   "metadata": {
    "collapsed": false
   },
   "outputs": [
    {
     "data": {
      "text/plain": [
       "{'a': 12,\n",
       " 'acid': 3,\n",
       " 'and': 0,\n",
       " 'as': 9,\n",
       " 'clofibrate': 17,\n",
       " 'drugs': 5,\n",
       " 'e': 19,\n",
       " 'g': 18,\n",
       " 'in': 7,\n",
       " 'inhibitors': 8,\n",
       " 'may': 11,\n",
       " 'mg': 15,\n",
       " 'of': 1,\n",
       " 'or': 6,\n",
       " 'oral': 13,\n",
       " 'phenytoin': 14,\n",
       " 'prolonged': 16,\n",
       " 'the': 2,\n",
       " 'to': 10,\n",
       " 'with': 4}"
      ]
     },
     "execution_count": 67,
     "metadata": {},
     "output_type": "execute_result"
    }
   ],
   "source": [
    "feature_index"
   ]
  },
  {
   "cell_type": "code",
   "execution_count": 118,
   "metadata": {
    "collapsed": true
   },
   "outputs": [],
   "source": []
  },
  {
   "cell_type": "code",
   "execution_count": 130,
   "metadata": {
    "collapsed": false
   },
   "outputs": [],
   "source": [
    "#columns = feature_words (1 = present, 0 = absent)\n",
    "#row = pair_n\n",
    "\n",
    "def get_features_from_text(wordList):\n",
    "    output = np.zeros(nb_feature_words)\n",
    "    for w in wordList:\n",
    "        if w in feature_index:\n",
    "            output[feature_index[w]] = 1\n",
    "    \n",
    "    return output\n",
    "\n",
    "\n",
    "\n",
    "def get_features_from_pair(pair, sentenceText):\n",
    "    text_start = pair.e1.char_offset[0][1] +1\n",
    "    text_end = pair.e2.char_offset[0][0]        #no +1 because slice in python exclude last end\n",
    "    \n",
    "    #print \"TEXT START AT \" + str(text_start) + \" AND ENDS AT \" + str(text_end) + \"\\n\"\n",
    "    \n",
    "    text = sentenceText[text_start:text_end]\n",
    "    text = re.split(\"\\W+\", text)\n",
    "    text = \" \".join([w for w in text if w != \"\"])\n",
    "    \n",
    "    return get_features_from_text(text)\n",
    "\n",
    "def get_features_from_sentence(s):\n",
    "    ncol = nb_feature_words\n",
    "    nrow = len(s.pairs)\n",
    "    \n",
    "    matrix = np.zeros(shape=(nrow, ncol))\n",
    "    \n",
    "    for (i,p) in enumerate(s.pairs):\n",
    "        matrix[i] = get_features_from_pair(p, s.text)\n",
    "    \n",
    "    return matrix"
   ]
  },
  {
   "cell_type": "code",
   "execution_count": 188,
   "metadata": {
    "collapsed": true
   },
   "outputs": [],
   "source": [
    "\n",
    "def get_label_from_pair(pair):\n",
    "    label = \"no_interaction\"\n",
    "    \n",
    "    if pair.ddi == \"true\":\n",
    "        label = pair.type\n",
    "        \n",
    "        if label == \"None\":\n",
    "            print (\"EWRWOREIWOPRWOREOWPEOPPWROEWPRWOREWOROWPREWOPRWOPRWOPRWEOPR\")\n",
    "    \n",
    "    return label\n",
    "\n",
    "def get_labels_from_sentence(s):\n",
    "    ncol = 1\n",
    "    nrow = len(s.pairs)\n",
    "    \n",
    "    matrix = [\"\"]*nrow\n",
    "    \n",
    "    for (i,p) in enumerate(s.pairs):\n",
    "        matrix[i] = get_label_from_pair(p)\n",
    "    \n",
    "    return np.array(matrix)"
   ]
  },
  {
   "cell_type": "code",
   "execution_count": 189,
   "metadata": {
    "collapsed": false
   },
   "outputs": [
    {
     "data": {
      "text/plain": [
       "['and', 'of', 'course,', 'acid', 'with', 'water', 'is', 'dangerous', '!']"
      ]
     },
     "execution_count": 189,
     "metadata": {},
     "output_type": "execute_result"
    }
   ],
   "source": [
    "s = \"And of course, acid with water is dangerous !\"\n",
    "s = s.lower().split(' ')\n",
    "s"
   ]
  },
  {
   "cell_type": "code",
   "execution_count": 190,
   "metadata": {
    "collapsed": false
   },
   "outputs": [
    {
     "data": {
      "text/plain": [
       "array([ 1.,  1.,  0.,  1.,  1.,  0.,  0.,  0.,  0.,  0.,  0.,  0.,  0.,\n",
       "        0.,  0.,  0.,  0.,  0.,  0.,  0.])"
      ]
     },
     "execution_count": 190,
     "metadata": {},
     "output_type": "execute_result"
    }
   ],
   "source": [
    "get_features_from_text(s)"
   ]
  },
  {
   "cell_type": "code",
   "execution_count": 191,
   "metadata": {
    "collapsed": false
   },
   "outputs": [],
   "source": [
    "def get_necessary_info(pair, sentenceText):\n",
    "    if len(pair.e1.char_offset) != 1:\n",
    "        #print(\"MAUVAIS CAS !!!\")\n",
    "        #print (pair.e1.char_offset)\n",
    "        #print(sentenceText)\n",
    "        #print(pair.e1.text)\n",
    "        #print(pair.e2.text)\n",
    "        #return []\n",
    "        #sys.exit()\n",
    "        ()\n",
    "    \n",
    "    #print (pair.e1.char_offset, pair.e2.char_offset)\n",
    "    text_start = pair.e1.char_offset[0][1] +1\n",
    "    text_end = pair.e2.char_offset[0][0]        #no +1 because slice in python exclude last end\n",
    "    \n",
    "    #print \"TEXT START AT \" + str(text_start) + \" AND ENDS AT \" + str(text_end) + \"\\n\"\n",
    "    \n",
    "    text = sentenceText[text_start:text_end]\n",
    "    text = re.split(\"\\W+\", text)\n",
    "    text = \" \".join([w for w in text if w != \"\"])\n",
    "    #text = \"--\"\n",
    "    #return \"(\" + pair.e1.text + \",\" + str(text) + \",\" +  pair.e2.text + \",\" + pair.ddi + \")\"\n",
    "    #return text\n",
    "    \n",
    "    typeInteraction = \"\"\n",
    "    \n",
    "    if pair.ddi == \"true\":\n",
    "        typeInteraction = \",\" + pair.type\n",
    "    \n",
    "    return \"(\" + pair.e1.text + \",\" + text + \",\" +  pair.e2.text + \",\" + pair.ddi + typeInteraction + \")\"\n"
   ]
  },
  {
   "cell_type": "code",
   "execution_count": 192,
   "metadata": {
    "collapsed": false
   },
   "outputs": [
    {
     "name": "stdout",
     "output_type": "stream",
     "text": [
      "(20869L, 20L)\n",
      "[None 'advise' 'effect' 'int' 'mechanism' 'no_interaction']\n",
      "Done\n"
     ]
    }
   ],
   "source": [
    "nb = 1\n",
    "nb = len(training)\n",
    "verbose = False\n",
    "\n",
    "ncol = nb_feature_words\n",
    "nrow = 1\n",
    "\n",
    "matrixFeature = np.zeros(shape=(nrow, ncol))\n",
    "\n",
    "labels = np.array([])\n",
    "\n",
    "\n",
    "\n",
    "for doc in training[0:nb]:\n",
    "    for sentence in doc.sentences:\n",
    "        if len(sentence.entities) >= 2:\n",
    "            #all_interaction_text = [get_interaction_text(p, sentence.text) for p in sentence.pairs]\n",
    "            matrixFeature = np.vstack((matrixFeature, get_features_from_sentence(sentence)))\n",
    "            labels = np.append(labels, get_labels_from_sentence(sentence))\n",
    "            if verbose:\n",
    "                print(sentence.text)\n",
    "                print([e.text for e in sentence.entities])\n",
    "                #print([get_necessary_info(p, sentence.text) for p in sentence.pairs])\n",
    "            \n",
    "                \n",
    "                #print(all_interaction_text)\n",
    "                print(\"\\n-------\\n\")\n",
    "            \n",
    "\n",
    "matrixFeature = matrixFeature[1:,:] #remove first row\n",
    "labels = labels.T\n",
    "print(matrixFeature.shape)\n",
    "#print(matrixFeature)\n",
    "print(np.unique(labels))\n",
    "print(\"Done\")"
   ]
  },
  {
   "cell_type": "code",
   "execution_count": 186,
   "metadata": {
    "collapsed": false
   },
   "outputs": [],
   "source": [
    "sl = 2\n",
    "step = 60\n",
    "labels[sl*step:(sl+1)*step]\n",
    "\n",
    "t = {}\n",
    "for e in labels:\n",
    "    t[e] = t.get(e,0) + 1"
   ]
  },
  {
   "cell_type": "code",
   "execution_count": 187,
   "metadata": {
    "collapsed": false
   },
   "outputs": [
    {
     "data": {
      "text/plain": [
       "{None: 1,\n",
       " 'advise': 599,\n",
       " 'effect': 1204,\n",
       " 'int': 138,\n",
       " 'mechanism': 990,\n",
       " 'no_interaction': 17937}"
      ]
     },
     "execution_count": 187,
     "metadata": {},
     "output_type": "execute_result"
    }
   ],
   "source": [
    "t"
   ]
  },
  {
   "cell_type": "code",
   "execution_count": null,
   "metadata": {
    "collapsed": true
   },
   "outputs": [],
   "source": []
  }
 ],
 "metadata": {
  "anaconda-cloud": {},
  "kernelspec": {
   "display_name": "Python [conda root]",
   "language": "python",
   "name": "conda-root-py"
  },
  "language_info": {
   "codemirror_mode": {
    "name": "ipython",
    "version": 2
   },
   "file_extension": ".py",
   "mimetype": "text/x-python",
   "name": "python",
   "nbconvert_exporter": "python",
   "pygments_lexer": "ipython2",
   "version": "2.7.12"
  }
 },
 "nbformat": 4,
 "nbformat_minor": 1
}
